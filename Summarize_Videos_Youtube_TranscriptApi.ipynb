{
 "cells": [
  {
   "cell_type": "code",
   "execution_count": 2,
   "id": "1929b48a",
   "metadata": {},
   "outputs": [],
   "source": [
    "from youtube_transcript_api import YouTubeTranscriptApi, NoTranscriptFound, TranscriptsDisabled\n",
    "from transformers import pipeline\n",
    "import re"
   ]
  },
  {
   "cell_type": "code",
   "execution_count": 3,
   "id": "d964373b",
   "metadata": {},
   "outputs": [],
   "source": [
    "def extract_video_id(url):\n",
    "    \"\"\"\n",
    "    Extract the video ID from a YouTube URL.\n",
    "    \"\"\"\n",
    "    match = re.search(r\"v=([a-zA-Z0-9_-]+)\", url)\n",
    "    if match:\n",
    "        return match.group(1)\n",
    "    else:\n",
    "        print(\"Invalid YouTube URL\")\n",
    "        return None\n",
    "\n",
    "def get_video_transcript(video_id):\n",
    "    \"\"\"\n",
    "    Get the transcript of a YouTube video from its video ID.\n",
    "    \"\"\"\n",
    "    try:\n",
    "        # Retrieve the transcript (English preferred)\n",
    "        transcript_data = YouTubeTranscriptApi.get_transcript(video_id, languages=['en'])\n",
    "\n",
    "        # Combine the transcript into a single string\n",
    "        text = \" \".join([entry['text'] for entry in transcript_data])\n",
    "        return text\n",
    "    except NoTranscriptFound:\n",
    "        print(\"No transcript available for this video.\")\n",
    "        return None\n",
    "    except TranscriptsDisabled:\n",
    "        print(\"Transcripts are disabled for this video.\")\n",
    "        return None\n",
    "    except Exception as e:\n",
    "        print(f\"Error while retrieving the transcript: {e}\")\n",
    "        return None\n",
    "\n",
    "def summarize_text_as_bullets(text):\n",
    "    \"\"\"\n",
    "    Summarize the given text as bullet points.\n",
    "    \"\"\"\n",
    "    # Initialize the summarization pipeline\n",
    "    summarizer = pipeline(\"summarization\", model=\"facebook/bart-large-cnn\")\n",
    "\n",
    "    # Summarize the text (adjust max_length and min_length as needed)\n",
    "    summary = summarizer(text, max_length=150, min_length=50, do_sample=False)\n",
    "\n",
    "    # Get the summary as text\n",
    "    summarized_text = summary[0]['summary_text']\n",
    "\n",
    "    # Split the summary into sentences for bullet points\n",
    "    summarized_lines = summarized_text.split('. ')\n",
    "\n",
    "    # Display each line as a bullet point\n",
    "    bullet_points = \"\\n- \".join(summarized_lines)\n",
    "\n",
    "    return \"- \" + bullet_points"
   ]
  },
  {
   "cell_type": "code",
   "execution_count": 6,
   "id": "34ce69c6",
   "metadata": {},
   "outputs": [
    {
     "name": "stdout",
     "output_type": "stream",
     "text": [
      "Video summary:\n",
      "- Go to openai.com, then click on Log In\n",
      "- Then click on Sign Up to create a new account or sign in with one of these providers\n",
      "- On the left-hand side of the screen, look for API Keys\n",
      "- Then on this page, click on Create New Secret Key\n",
      "- Here we can give our key a name and we can also set the permissions.\n"
     ]
    }
   ],
   "source": [
    "def main():\n",
    "    video_url = \"https://www.youtube.com/watch?v=gBSh9JI28UQ\" \n",
    "\n",
    "    video_id = extract_video_id(video_url)\n",
    "\n",
    "    if video_id:\n",
    "        transcript = get_video_transcript(video_id)\n",
    "\n",
    "        if transcript:\n",
    "            summarized_text = summarize_text_as_bullets(transcript)\n",
    "            print(\"Video summary:\")\n",
    "            print(summarized_text)\n",
    "        else:\n",
    "            print(\"Unable to retrieve the transcript.\")\n",
    "    else:\n",
    "        print(\"Invalid video URL.\")\n",
    "\n",
    "if __name__ == \"__main__\":\n",
    "    main()"
   ]
  },
  {
   "cell_type": "code",
   "execution_count": 7,
   "id": "d12c8d3d",
   "metadata": {},
   "outputs": [
    {
     "name": "stdout",
     "output_type": "stream",
     "text": [
      "Video summary:\n",
      "- Sports make people healthy positive and strong it help improve efficiency in people's daily life study and work\n",
      "- playing tennis helps improve flexibility and muscle endurance swimming is excellent for the heart and lungs healthy yoga is popular for body of self-cultivation running reduces body fat and lowers blood pressure.\n"
     ]
    }
   ],
   "source": [
    "def main():\n",
    "    video_url = \"https://www.youtube.com/watch?v=lcB0LYNp0oI\" \n",
    "\n",
    "    video_id = extract_video_id(video_url)\n",
    "\n",
    "    if video_id:\n",
    "        transcript = get_video_transcript(video_id)\n",
    "\n",
    "        if transcript:\n",
    "            summarized_text = summarize_text_as_bullets(transcript)\n",
    "            print(\"Video summary:\")\n",
    "            print(summarized_text)\n",
    "        else:\n",
    "            print(\"Unable to retrieve the transcript.\")\n",
    "    else:\n",
    "        print(\"Invalid video URL.\")\n",
    "\n",
    "if __name__ == \"__main__\":\n",
    "    main()"
   ]
  }
 ],
 "metadata": {
  "kernelspec": {
   "display_name": "Python 3 (ipykernel)",
   "language": "python",
   "name": "python3"
  },
  "language_info": {
   "codemirror_mode": {
    "name": "ipython",
    "version": 3
   },
   "file_extension": ".py",
   "mimetype": "text/x-python",
   "name": "python",
   "nbconvert_exporter": "python",
   "pygments_lexer": "ipython3",
   "version": "3.8.8"
  }
 },
 "nbformat": 4,
 "nbformat_minor": 5
}
